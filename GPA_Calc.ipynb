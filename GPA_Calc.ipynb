{
  "nbformat": 4,
  "nbformat_minor": 0,
  "metadata": {
    "colab": {
      "provenance": [],
      "authorship_tag": "ABX9TyNF665iG75jU50J8NR3l6zH",
      "include_colab_link": true
    },
    "kernelspec": {
      "name": "python3",
      "display_name": "Python 3"
    },
    "language_info": {
      "name": "python"
    }
  },
  "cells": [
    {
      "cell_type": "markdown",
      "metadata": {
        "id": "view-in-github",
        "colab_type": "text"
      },
      "source": [
        "<a href=\"https://colab.research.google.com/github/JonCels/GPA-Converter/blob/master/GPA_Calc.ipynb\" target=\"_parent\"><img src=\"https://colab.research.google.com/assets/colab-badge.svg\" alt=\"Open In Colab\"/></a>"
      ]
    },
    {
      "cell_type": "code",
      "source": [
        "!pip install PyPDF2\n",
        "import io\n",
        "from google.colab import files\n",
        "files = files.upload();"
      ],
      "metadata": {
        "colab": {
          "base_uri": "https://localhost:8080/",
          "height": 90
        },
        "id": "Vv5CmU6QuS9V",
        "outputId": "6aa371ae-599f-4477-88ee-14ab1c771302"
      },
      "execution_count": null,
      "outputs": [
        {
          "output_type": "stream",
          "name": "stdout",
          "text": [
            "Requirement already satisfied: PyPDF2 in /usr/local/lib/python3.10/dist-packages (3.0.1)\n"
          ]
        },
        {
          "output_type": "display_data",
          "data": {
            "text/plain": [
              "<IPython.core.display.HTML object>"
            ],
            "text/html": [
              "\n",
              "     <input type=\"file\" id=\"files-fd267366-500c-4dad-8462-c0041e92276c\" name=\"files[]\" multiple disabled\n",
              "        style=\"border:none\" />\n",
              "     <output id=\"result-fd267366-500c-4dad-8462-c0041e92276c\">\n",
              "      Upload widget is only available when the cell has been executed in the\n",
              "      current browser session. Please rerun this cell to enable.\n",
              "      </output>\n",
              "      <script>// Copyright 2017 Google LLC\n",
              "//\n",
              "// Licensed under the Apache License, Version 2.0 (the \"License\");\n",
              "// you may not use this file except in compliance with the License.\n",
              "// You may obtain a copy of the License at\n",
              "//\n",
              "//      http://www.apache.org/licenses/LICENSE-2.0\n",
              "//\n",
              "// Unless required by applicable law or agreed to in writing, software\n",
              "// distributed under the License is distributed on an \"AS IS\" BASIS,\n",
              "// WITHOUT WARRANTIES OR CONDITIONS OF ANY KIND, either express or implied.\n",
              "// See the License for the specific language governing permissions and\n",
              "// limitations under the License.\n",
              "\n",
              "/**\n",
              " * @fileoverview Helpers for google.colab Python module.\n",
              " */\n",
              "(function(scope) {\n",
              "function span(text, styleAttributes = {}) {\n",
              "  const element = document.createElement('span');\n",
              "  element.textContent = text;\n",
              "  for (const key of Object.keys(styleAttributes)) {\n",
              "    element.style[key] = styleAttributes[key];\n",
              "  }\n",
              "  return element;\n",
              "}\n",
              "\n",
              "// Max number of bytes which will be uploaded at a time.\n",
              "const MAX_PAYLOAD_SIZE = 100 * 1024;\n",
              "\n",
              "function _uploadFiles(inputId, outputId) {\n",
              "  const steps = uploadFilesStep(inputId, outputId);\n",
              "  const outputElement = document.getElementById(outputId);\n",
              "  // Cache steps on the outputElement to make it available for the next call\n",
              "  // to uploadFilesContinue from Python.\n",
              "  outputElement.steps = steps;\n",
              "\n",
              "  return _uploadFilesContinue(outputId);\n",
              "}\n",
              "\n",
              "// This is roughly an async generator (not supported in the browser yet),\n",
              "// where there are multiple asynchronous steps and the Python side is going\n",
              "// to poll for completion of each step.\n",
              "// This uses a Promise to block the python side on completion of each step,\n",
              "// then passes the result of the previous step as the input to the next step.\n",
              "function _uploadFilesContinue(outputId) {\n",
              "  const outputElement = document.getElementById(outputId);\n",
              "  const steps = outputElement.steps;\n",
              "\n",
              "  const next = steps.next(outputElement.lastPromiseValue);\n",
              "  return Promise.resolve(next.value.promise).then((value) => {\n",
              "    // Cache the last promise value to make it available to the next\n",
              "    // step of the generator.\n",
              "    outputElement.lastPromiseValue = value;\n",
              "    return next.value.response;\n",
              "  });\n",
              "}\n",
              "\n",
              "/**\n",
              " * Generator function which is called between each async step of the upload\n",
              " * process.\n",
              " * @param {string} inputId Element ID of the input file picker element.\n",
              " * @param {string} outputId Element ID of the output display.\n",
              " * @return {!Iterable<!Object>} Iterable of next steps.\n",
              " */\n",
              "function* uploadFilesStep(inputId, outputId) {\n",
              "  const inputElement = document.getElementById(inputId);\n",
              "  inputElement.disabled = false;\n",
              "\n",
              "  const outputElement = document.getElementById(outputId);\n",
              "  outputElement.innerHTML = '';\n",
              "\n",
              "  const pickedPromise = new Promise((resolve) => {\n",
              "    inputElement.addEventListener('change', (e) => {\n",
              "      resolve(e.target.files);\n",
              "    });\n",
              "  });\n",
              "\n",
              "  const cancel = document.createElement('button');\n",
              "  inputElement.parentElement.appendChild(cancel);\n",
              "  cancel.textContent = 'Cancel upload';\n",
              "  const cancelPromise = new Promise((resolve) => {\n",
              "    cancel.onclick = () => {\n",
              "      resolve(null);\n",
              "    };\n",
              "  });\n",
              "\n",
              "  // Wait for the user to pick the files.\n",
              "  const files = yield {\n",
              "    promise: Promise.race([pickedPromise, cancelPromise]),\n",
              "    response: {\n",
              "      action: 'starting',\n",
              "    }\n",
              "  };\n",
              "\n",
              "  cancel.remove();\n",
              "\n",
              "  // Disable the input element since further picks are not allowed.\n",
              "  inputElement.disabled = true;\n",
              "\n",
              "  if (!files) {\n",
              "    return {\n",
              "      response: {\n",
              "        action: 'complete',\n",
              "      }\n",
              "    };\n",
              "  }\n",
              "\n",
              "  for (const file of files) {\n",
              "    const li = document.createElement('li');\n",
              "    li.append(span(file.name, {fontWeight: 'bold'}));\n",
              "    li.append(span(\n",
              "        `(${file.type || 'n/a'}) - ${file.size} bytes, ` +\n",
              "        `last modified: ${\n",
              "            file.lastModifiedDate ? file.lastModifiedDate.toLocaleDateString() :\n",
              "                                    'n/a'} - `));\n",
              "    const percent = span('0% done');\n",
              "    li.appendChild(percent);\n",
              "\n",
              "    outputElement.appendChild(li);\n",
              "\n",
              "    const fileDataPromise = new Promise((resolve) => {\n",
              "      const reader = new FileReader();\n",
              "      reader.onload = (e) => {\n",
              "        resolve(e.target.result);\n",
              "      };\n",
              "      reader.readAsArrayBuffer(file);\n",
              "    });\n",
              "    // Wait for the data to be ready.\n",
              "    let fileData = yield {\n",
              "      promise: fileDataPromise,\n",
              "      response: {\n",
              "        action: 'continue',\n",
              "      }\n",
              "    };\n",
              "\n",
              "    // Use a chunked sending to avoid message size limits. See b/62115660.\n",
              "    let position = 0;\n",
              "    do {\n",
              "      const length = Math.min(fileData.byteLength - position, MAX_PAYLOAD_SIZE);\n",
              "      const chunk = new Uint8Array(fileData, position, length);\n",
              "      position += length;\n",
              "\n",
              "      const base64 = btoa(String.fromCharCode.apply(null, chunk));\n",
              "      yield {\n",
              "        response: {\n",
              "          action: 'append',\n",
              "          file: file.name,\n",
              "          data: base64,\n",
              "        },\n",
              "      };\n",
              "\n",
              "      let percentDone = fileData.byteLength === 0 ?\n",
              "          100 :\n",
              "          Math.round((position / fileData.byteLength) * 100);\n",
              "      percent.textContent = `${percentDone}% done`;\n",
              "\n",
              "    } while (position < fileData.byteLength);\n",
              "  }\n",
              "\n",
              "  // All done.\n",
              "  yield {\n",
              "    response: {\n",
              "      action: 'complete',\n",
              "    }\n",
              "  };\n",
              "}\n",
              "\n",
              "scope.google = scope.google || {};\n",
              "scope.google.colab = scope.google.colab || {};\n",
              "scope.google.colab._files = {\n",
              "  _uploadFiles,\n",
              "  _uploadFilesContinue,\n",
              "};\n",
              "})(self);\n",
              "</script> "
            ]
          },
          "metadata": {}
        },
        {
          "output_type": "stream",
          "name": "stdout",
          "text": [
            "Saving transcript.pdf to transcript (4).pdf\n"
          ]
        }
      ]
    },
    {
      "cell_type": "code",
      "execution_count": null,
      "metadata": {
        "colab": {
          "base_uri": "https://localhost:8080/"
        },
        "id": "9hcQmN_LtVwE",
        "outputId": "e61d7a3a-614f-48d2-e05b-48f046cff9e7"
      },
      "outputs": [
        {
          "output_type": "stream",
          "name": "stdout",
          "text": [
            "[[3.0, 3.0, 'B+'], [3.0, 3.0, 'A+'], [3.0, 3.0, 'A'], [3.0, 3.0, 'B+'], [3.0, 3.0, 'C+'], [3.0, 3.0, 'A'], [3.0, 3.0, 'A+'], [4.0, 4.0, 'A+'], [3.0, 3.0, 'A+'], [3.0, 3.0, 'A+'], [3.0, 3.0, 'A'], [3.0, 3.0, 'B+'], [3.0, 3.0, 'A+'], [4.0, 4.0, 'A+'], [3.0, 3.0, 'A+'], [3.0, 3.0, 'A+'], [3.0, 3.0, 'A'], [3.0, 3.0, 'B+'], [3.0, 3.0, 'A-'], [4.0, 4.0, 'A+'], [3.0, 3.0, 'A+'], [3.0, 3.0, 'A-'], [3.0, 3.0, 'A+'], [3.0, 3.0, 'A+'], [4.0, 4.0, 'A+'], [3.0, 3.0, 'A'], [3.0, 3.0, 'A'], [3.0, 3.0, 'A+'], [3.0, 3.0, 'A+'], [3.0, 3.0, 'A-'], [4.0, 4.0, 'A+'], [3.0, 3.0, 'A+'], [3.0, 3.0, 'A-'], [3.0, 3.0, 'A+'], [3.0, 3.0, 'A+'], [4.0, 4.0, 'A+'], [3.0, 3.0, 'A'], [3.0, 3.0, 'A'], [3.0, 3.0, 'A+'], [3.0, 3.0, 'A+'], [4.0, 4.0, 'A+'], [3.0, 3.0, 'A'], [3.0, 3.0, 'A'], [3.0, 3.0, 'A-'], [3.0, 3.0, 'A'], [3.0, 3.0, 'B'], [4.0, 4.0, 'A+'], [3.0, 3.0, 'A'], [3.0, 3.0, 'A'], [3.0, 3.0, 'A-'], [3.0, 3.0, 'A'], [3.0, 3.0, 'B'], [3.0, 3.0, 'A+'], [4.0, 4.0, 'A+'], [4.0, 4.0, 'A'], [3.0, 3.0, 'A+'], [3.0, 3.0, 'A+'], [3.0, 3.0, 'A+'], [3.0, 3.0, 'A+'], [4.0, 4.0, 'A'], [3.0, 3.0, 'B+'], [3.0, 3.0, 'A'], [3.0, 3.0, 'A-'], [3.0, 3.0, 'A+'], [4.0, 4.0, 'A'], [3.0, 3.0, 'B+'], [3.0, 3.0, 'A'], [3.0, 3.0, 'A-'], [3.0, 3.0, 'B+'], [3.0, 3.0, 'A+'], [3.0, 3.0, 'A+'], [3.0, 3.0, 'A-'], [3.0, 3.0, 'A'], [6.0, 6.0, 'A+']]\n"
          ]
        }
      ],
      "source": [
        "from PyPDF2 import PdfReader\n",
        "for fn in files.keys():\n",
        "  reader = PdfReader(fn);\n",
        "\n",
        "numPages = len(reader.pages);\n",
        "\n",
        "grades = [];\n",
        "\n",
        "for n in range(numPages):\n",
        "  page = reader.pages[n];\n",
        "  text = page.extract_text();\n",
        "  startCount = text.count(\"Course\");\n",
        "  endCount = text.count(\"Total\");\n",
        "  try:\n",
        "    end = text.index(\"Total\");\n",
        "  except ValueError:\n",
        "    pass\n",
        "  for j in range(startCount):\n",
        "    if (startCount == endCount):\n",
        "      start = text.index(\"Course\");\n",
        "      end = text.index(\"Total\");\n",
        "      relTextArr = text[start:end].split();\n",
        "    else:\n",
        "      start = text.index(\"Course\");\n",
        "      relTextArr = text[start:].split();\n",
        "\n",
        "    for i in range(len(relTextArr)):\n",
        "      try:\n",
        "        if (relTextArr[i].index(\".00/\") != -1):\n",
        "          courseCredits = float(relTextArr[i][relTextArr[i].index(\".00\") - 1 : relTextArr[i].index(\".00\") + 3]);\n",
        "          earnedCredits = float(relTextArr[i][relTextArr[i].rindex(\".00\") - 1 : relTextArr[i].rindex(\".00\") + 3]);\n",
        "          #print(relTextArr);\n",
        "          if courseCredits > 0.0 and earnedCredits > 0.0:\n",
        "            grades.append([earnedCredits, courseCredits, relTextArr[i+1]]);\n",
        "      except ValueError:\n",
        "        pass;\n",
        "    text = text[end+1:]\n",
        "\n",
        "print(grades)"
      ]
    },
    {
      "cell_type": "code",
      "source": [
        "def convert(courseGrade):\n",
        "  earnedCredits = courseGrade[0];\n",
        "  courseCredits = courseGrade[1];\n",
        "  grade = courseGrade[2];\n",
        "  convertedGrade = 0.0;\n",
        "\n",
        "  if (grade == 'A+'):\n",
        "    convertedGrade = 4.0;\n",
        "  elif (grade == 'A'):\n",
        "    convertedGrade = 3.9;\n",
        "  elif (grade == 'A-'):\n",
        "    convertedGrade = 3.7;\n",
        "  elif (grade == 'B+'):\n",
        "    convertedGrade = 3.3;\n",
        "  elif (grade == 'B'):\n",
        "    convertedGrade = 3;\n",
        "  elif (grade == 'B-'):\n",
        "    convertedGrade = 2.7;\n",
        "  elif (grade == 'C+'):\n",
        "    convertedGrade = 2.3;\n",
        "  elif (grade == 'C'):\n",
        "    convertedGrade = 2;\n",
        "  elif (grade == 'C-'):\n",
        "    convertedGrade = 1.7;\n",
        "  elif (grade == 'D+'):\n",
        "    convertedGrade = 1.3;\n",
        "  elif (grade == 'D'):\n",
        "    convertedGrade = 1;\n",
        "  elif (grade == 'D-'):\n",
        "    convertedGrade = 0.7;\n",
        "  elif (grade == 'F'):\n",
        "    convertedGrade = 0;\n",
        "  return (convertedGrade*earnedCredits, earnedCredits);"
      ],
      "metadata": {
        "id": "k4pxPCvDXClb"
      },
      "execution_count": null,
      "outputs": []
    },
    {
      "cell_type": "code",
      "source": [
        "sumGrades = 0;\n",
        "numGrades = 0;\n",
        "credits = 0;\n",
        "for grade in grades:\n",
        "  converted = convert(grade);\n",
        "  gr = converted[0];\n",
        "  weight = converted[1];\n",
        "  sumGrades = sumGrades + gr;\n",
        "  numGrades = numGrades + 1;\n",
        "  credits = credits + weight;\n",
        "avg = round(sumGrades / credits, 5);\n",
        "print(avg);"
      ],
      "metadata": {
        "colab": {
          "base_uri": "https://localhost:8080/"
        },
        "id": "GGwWlrxfgiTF",
        "outputId": "545440e8-9e6c-4d28-9dba-99d0968313ae"
      },
      "execution_count": null,
      "outputs": [
        {
          "output_type": "stream",
          "name": "stdout",
          "text": [
            "3.83038\n"
          ]
        }
      ]
    }
  ]
}